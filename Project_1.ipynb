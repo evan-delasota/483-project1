{
  "nbformat": 4,
  "nbformat_minor": 0,
  "metadata": {
    "colab": {
      "name": "Project 1.ipynb",
      "provenance": [],
      "collapsed_sections": [],
      "include_colab_link": true
    },
    "kernelspec": {
      "name": "python3",
      "display_name": "Python 3"
    },
    "language_info": {
      "name": "python"
    }
  },
  "cells": [
    {
      "cell_type": "markdown",
      "metadata": {
        "id": "view-in-github",
        "colab_type": "text"
      },
      "source": [
        "<a href=\"https://colab.research.google.com/github/evan-delasota/483-project1/blob/main/Project_1.ipynb\" target=\"_parent\"><img src=\"https://colab.research.google.com/assets/colab-badge.svg\" alt=\"Open In Colab\"/></a>"
      ]
    },
    {
      "cell_type": "markdown",
      "metadata": {
        "id": "Qn6b9wVN1mob"
      },
      "source": [
        "# Project 1 Anomaly Detection\n",
        "## By Evan Delasota, Mathew Enochs, John Tarroza\n",
        "\n",
        "### Anomaly detection is any process that finds the outliers of a dataset; those items that don't belong.\n",
        "\n",
        "#### This program compares the results of two algorithms used to detect outliers and prints out the results in a list. The two algorithms used are *Tukey's Fences* and the 68-95-99.7 rule with *standard deviation*.\n",
        "\n",
        "\n"
      ]
    },
    {
      "cell_type": "code",
      "metadata": {
        "colab": {
          "resources": {
            "http://localhost:8080/nbextensions/google.colab/files.js": {
              "data": "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",
              "ok": true,
              "headers": [
                [
                  "content-type",
                  "application/javascript"
                ]
              ],
              "status": 200,
              "status_text": ""
            }
          },
          "base_uri": "https://localhost:8080/",
          "height": 72
        },
        "id": "PFrCq3M11oas",
        "outputId": "42126d6e-35b9-429b-95a9-347675badd82"
      },
      "source": [
        "from google.colab import files\n",
        "uploaded = files.upload()"
      ],
      "execution_count": null,
      "outputs": [
        {
          "output_type": "display_data",
          "data": {
            "text/html": [
              "\n",
              "     <input type=\"file\" id=\"files-04d9856a-4bb2-454d-b8a5-ef92bf2833d1\" name=\"files[]\" multiple disabled\n",
              "        style=\"border:none\" />\n",
              "     <output id=\"result-04d9856a-4bb2-454d-b8a5-ef92bf2833d1\">\n",
              "      Upload widget is only available when the cell has been executed in the\n",
              "      current browser session. Please rerun this cell to enable.\n",
              "      </output>\n",
              "      <script src=\"/nbextensions/google.colab/files.js\"></script> "
            ],
            "text/plain": [
              "<IPython.core.display.HTML object>"
            ]
          },
          "metadata": {}
        },
        {
          "output_type": "stream",
          "name": "stdout",
          "text": [
            "Saving participants.csv to participants.csv\n"
          ]
        }
      ]
    },
    {
      "cell_type": "code",
      "metadata": {
        "colab": {
          "base_uri": "https://localhost:8080/"
        },
        "id": "UkRA5DBu3Xaf",
        "outputId": "62514a6d-dd66-4ec5-ed79-368e23c777fe"
      },
      "source": [
        "for fn in uploaded.keys():\n",
        "  print('User uploaded file \"{name}\" with length {length} bytes'.format(\n",
        "      name=fn, length=len(uploaded[fn])))"
      ],
      "execution_count": null,
      "outputs": [
        {
          "output_type": "stream",
          "name": "stdout",
          "text": [
            "User uploaded file \"participants.csv\" with length 1229 bytes\n"
          ]
        }
      ]
    },
    {
      "cell_type": "markdown",
      "metadata": {
        "id": "C9bMScUcJ1mn"
      },
      "source": [
        "### Week 1 Results"
      ]
    },
    {
      "cell_type": "code",
      "metadata": {
        "id": "Wcf2HVQHF_IG",
        "colab": {
          "base_uri": "https://localhost:8080/"
        },
        "outputId": "1ceba229-3879-41f0-92f5-96fdd60a4548"
      },
      "source": [
        "import csv\n",
        "import statistics\n",
        "import pandas as pd\n",
        "\n",
        "df = pd.read_csv('participants.csv', delimiter=',')\n",
        "# Change week_name to any other week #s\n",
        "week_name = 'Week 1'\n",
        "student_name = \"Student Name\"\n",
        "print(\"Calculating results for \", week_name, \"...\", sep=\"\")\n",
        "\n",
        "df_mean = df[week_name].mean()\n",
        "print(\"mean:\", df_mean, end=\"\\n\")\n",
        "\n",
        "df_median = df[week_name].median()\n",
        "print(\"median:\", df_median, end=\"\\n\")\n",
        "\n",
        "df_quartiles = df[week_name].quantile([0.25,0.5,0.75]) #Q1, Q2, and Q3\n",
        "print(\"week 1 quartiles:\\n\", df_quartiles, sep=\"\")\n",
        "\n",
        "q1 = df[week_name].quantile(0.25)\n",
        "q3 = df[week_name].quantile(0.75)\n",
        "iqr = q3 - q1\n",
        "iqr_lower = q1 - (iqr * 1.5)\n",
        "iqr_upper = q3 + (iqr * 1.5)\n",
        "\n",
        "iqr_list = []\n",
        "std_list = []\n",
        "\n",
        "# Method using Tukey's Fences to detect potential outliers\n",
        "def tardy_iqr(week_name):\n",
        "    outlier_list = []\n",
        "\n",
        "    for index, row in df.iterrows():\n",
        "        # if value is out of range, append to outlier list\n",
        "        if row[week_name] < iqr_lower or row[week_name] > iqr_upper:\n",
        "            outlier_list.append(row[student_name])\n",
        "            \n",
        "    return outlier_list\n",
        "\n",
        "iqr_list = tardy_iqr(week_name)\n",
        "if len(iqr_list) < 1:\n",
        "    print(\"No outliers detected\")\n",
        "else:\n",
        "    print(\"IQR outlier list:\", iqr_list)\n",
        "\n",
        "# Method using the 68, 95, 99.7 principle involved with standard deviation to \n",
        "# detect potential outliers\n",
        "def tardy_stddev(week_name):\n",
        "    outlier_list = []\n",
        "    stddev = statistics.pstdev(df[week_name])\n",
        "    std_lower = df_mean - (1.5 * stddev)\n",
        "    std_upper = df_mean + (1.5 * stddev)\n",
        "\n",
        "    for index, row in df.iterrows():\n",
        "        # if value is out of range, append to outlier list\n",
        "        if row[week_name] < std_lower or row[week_name] > std_upper:\n",
        "            outlier_list.append(row[student_name])\n",
        "\n",
        "    return outlier_list\n",
        "\n",
        "std_list = tardy_stddev(week_name)\n",
        "if len(std_list) < 1:\n",
        "    print(\"No outliers detected\")\n",
        "else:\n",
        "    print(\"STDDEV outlier list:\", std_list)"
      ],
      "execution_count": null,
      "outputs": [
        {
          "output_type": "stream",
          "name": "stdout",
          "text": [
            "Calculating results for Week 1...\n",
            "mean: 161.0\n",
            "median: 175.0\n",
            "week 1 quartiles:\n",
            "0.25    174.0\n",
            "0.50    175.0\n",
            "0.75    179.0\n",
            "Name: Week 1, dtype: float64\n",
            "IQR outlier list: ['Adrian Ellison', 'Tayla Sparrow', 'Owain Emerson', 'Alaya Dickinson']\n",
            "STDDEV outlier list: ['Adrian Ellison', 'Tayla Sparrow', 'Owain Emerson', 'Alaya Dickinson']\n"
          ]
        }
      ]
    },
    {
      "cell_type": "markdown",
      "metadata": {
        "id": "25gMwuMILtPk"
      },
      "source": [
        "### Week 2 Results"
      ]
    },
    {
      "cell_type": "code",
      "metadata": {
        "colab": {
          "base_uri": "https://localhost:8080/"
        },
        "id": "hFBMgQ-MBAwC",
        "outputId": "a928a6c9-5eb5-43ce-b5e1-c979095a0e4d"
      },
      "source": [
        "import csv\n",
        "import statistics\n",
        "import pandas as pd\n",
        "\n",
        "df = pd.read_csv('participants.csv', delimiter=',')\n",
        "# Change week_name to any other week #s\n",
        "week_name = 'Week 2'\n",
        "student_name = \"Student Name\"\n",
        "print(\"Calculating results for \", week_name, \"...\", sep=\"\")\n",
        "\n",
        "df_mean = df[week_name].mean()\n",
        "print(\"mean:\", df_mean, end=\"\\n\")\n",
        "\n",
        "df_median = df[week_name].median()\n",
        "print(\"median:\", df_median, end=\"\\n\")\n",
        "\n",
        "df_quartiles = df[week_name].quantile([0.25,0.5,0.75]) #Q1, Q2, and Q3\n",
        "print(\"week 1 quartiles:\\n\", df_quartiles, sep=\"\")\n",
        "\n",
        "q1 = df[week_name].quantile(0.25)\n",
        "q3 = df[week_name].quantile(0.75)\n",
        "iqr = q3 - q1\n",
        "iqr_lower = q1 - (iqr * 1.5)\n",
        "iqr_upper = q3 + (iqr * 1.5)\n",
        "\n",
        "iqr_list = []\n",
        "std_list = []\n",
        "\n",
        "# Method using Tukey's Fences to detect potential outliers\n",
        "def tardy_iqr(week_name):\n",
        "    outlier_list = []\n",
        "\n",
        "    for index, row in df.iterrows():\n",
        "        # if value is out of range, append to outlier list\n",
        "        if row[week_name] < iqr_lower or row[week_name] > iqr_upper:\n",
        "            outlier_list.append(row[student_name])\n",
        "            \n",
        "    return outlier_list\n",
        "\n",
        "iqr_list = tardy_iqr(week_name)\n",
        "if len(iqr_list) < 1:\n",
        "    print(\"No outliers detected\")\n",
        "else:\n",
        "    print(\"IQR outlier list:\", iqr_list)\n",
        "\n",
        "# Method using the 68, 95, 99.7 principle involved with standard deviation to \n",
        "# detect potential outliers\n",
        "def tardy_stddev(week_name):\n",
        "    outlier_list = []\n",
        "    stddev = statistics.pstdev(df[week_name])\n",
        "    std_lower = df_mean - (1.5 * stddev)\n",
        "    std_upper = df_mean + (1.5 * stddev)\n",
        "\n",
        "    for index, row in df.iterrows():\n",
        "        # if value is out of range, append to outlier list\n",
        "        if row[week_name] < std_lower or row[week_name] > std_upper:\n",
        "            outlier_list.append(row[student_name])\n",
        "\n",
        "    return outlier_list\n",
        "\n",
        "std_list = tardy_stddev(week_name)\n",
        "if len(std_list) < 1:\n",
        "    print(\"No outliers detected\")\n",
        "else:\n",
        "    print(\"STDDEV outlier list:\", std_list)"
      ],
      "execution_count": null,
      "outputs": [
        {
          "output_type": "stream",
          "name": "stdout",
          "text": [
            "Calculating results for Week 2...\n",
            "mean: 145.0857142857143\n",
            "median: 153.0\n",
            "week 1 quartiles:\n",
            "0.25    149.0\n",
            "0.50    153.0\n",
            "0.75    154.0\n",
            "Name: Week 2, dtype: float64\n",
            "IQR outlier list: ['Yasir Fenton', 'Tamara Cottrell', 'Jazmin Foreman', 'Bear Zuniga', 'Miles Lyons', 'Owain Emerson']\n",
            "STDDEV outlier list: ['Yasir Fenton', 'Tamara Cottrell', 'Miles Lyons', 'Owain Emerson']\n"
          ]
        }
      ]
    },
    {
      "cell_type": "markdown",
      "metadata": {
        "id": "nry6L43hMK9X"
      },
      "source": [
        "### Week 3 Results"
      ]
    },
    {
      "cell_type": "code",
      "metadata": {
        "colab": {
          "base_uri": "https://localhost:8080/"
        },
        "id": "XqLLPHWzMQjx",
        "outputId": "7e39d356-965f-4da8-93d9-bd977fd8132c"
      },
      "source": [
        "import csv\n",
        "import statistics\n",
        "import pandas as pd\n",
        "\n",
        "df = pd.read_csv('participants.csv', delimiter=',')\n",
        "# Change week_name to any other week #s\n",
        "week_name = 'Week 3'\n",
        "student_name = \"Student Name\"\n",
        "print(\"Calculating results for \", week_name, \"...\", sep=\"\")\n",
        "\n",
        "df_mean = df[week_name].mean()\n",
        "print(\"mean:\", df_mean, end=\"\\n\")\n",
        "\n",
        "df_median = df[week_name].median()\n",
        "print(\"median:\", df_median, end=\"\\n\")\n",
        "\n",
        "df_quartiles = df[week_name].quantile([0.25,0.5,0.75]) #Q1, Q2, and Q3\n",
        "print(\"week 1 quartiles:\\n\", df_quartiles, sep=\"\")\n",
        "\n",
        "q1 = df[week_name].quantile(0.25)\n",
        "q3 = df[week_name].quantile(0.75)\n",
        "iqr = q3 - q1\n",
        "iqr_lower = q1 - (iqr * 1.5)\n",
        "iqr_upper = q3 + (iqr * 1.5)\n",
        "\n",
        "iqr_list = []\n",
        "std_list = []\n",
        "\n",
        "# Method using Tukey's Fences to detect potential outliers\n",
        "def tardy_iqr(week_name):\n",
        "    outlier_list = []\n",
        "\n",
        "    for index, row in df.iterrows():\n",
        "        # if value is out of range, append to outlier list\n",
        "        if row[week_name] < iqr_lower or row[week_name] > iqr_upper:\n",
        "            outlier_list.append(row[student_name])\n",
        "            \n",
        "    return outlier_list\n",
        "\n",
        "iqr_list = tardy_iqr(week_name)\n",
        "if len(iqr_list) < 1:\n",
        "    print(\"No outliers detected\")\n",
        "else:\n",
        "    print(\"IQR outlier list:\", iqr_list)\n",
        "\n",
        "# Method using the 68, 95, 99.7 principle involved with standard deviation to \n",
        "# detect potential outliers\n",
        "def tardy_stddev(week_name):\n",
        "    outlier_list = []\n",
        "    stddev = statistics.pstdev(df[week_name])\n",
        "    std_lower = df_mean - (1.5 * stddev)\n",
        "    std_upper = df_mean + (1.5 * stddev)\n",
        "\n",
        "    for index, row in df.iterrows():\n",
        "        # if value is out of range, append to outlier list\n",
        "        if row[week_name] < std_lower or row[week_name] > std_upper:\n",
        "            outlier_list.append(row[student_name])\n",
        "\n",
        "    return outlier_list\n",
        "\n",
        "std_list = tardy_stddev(week_name)\n",
        "if len(std_list) < 1:\n",
        "    print(\"No outliers detected\")\n",
        "else:\n",
        "    print(\"STDDEV outlier list:\", std_list)"
      ],
      "execution_count": null,
      "outputs": [
        {
          "output_type": "stream",
          "name": "stdout",
          "text": [
            "Calculating results for Week 3...\n",
            "mean: 153.8\n",
            "median: 161.0\n",
            "week 1 quartiles:\n",
            "0.25    158.0\n",
            "0.50    161.0\n",
            "0.75    163.5\n",
            "Name: Week 3, dtype: float64\n",
            "IQR outlier list: ['Adrian Ellison', 'Adeline Jordan', 'Jaye Sweeney', 'Kameron Anthony']\n",
            "STDDEV outlier list: ['Adrian Ellison', 'Adeline Jordan']\n"
          ]
        }
      ]
    },
    {
      "cell_type": "markdown",
      "metadata": {
        "id": "l9v6E3SkMVMc"
      },
      "source": [
        "### Week 4 Results"
      ]
    },
    {
      "cell_type": "code",
      "metadata": {
        "colab": {
          "base_uri": "https://localhost:8080/"
        },
        "id": "g6GtiELYMYmO",
        "outputId": "e93271cb-5025-4dfe-bd49-c9467b614af3"
      },
      "source": [
        "import csv\n",
        "import statistics\n",
        "import pandas as pd\n",
        "\n",
        "df = pd.read_csv('participants.csv', delimiter=',')\n",
        "# Change week_name to any other week #s\n",
        "week_name = 'Week 4'\n",
        "student_name = \"Student Name\"\n",
        "print(\"Calculating results for \", week_name, \"...\", sep=\"\")\n",
        "\n",
        "df_mean = df[week_name].mean()\n",
        "print(\"mean:\", df_mean, end=\"\\n\")\n",
        "\n",
        "df_median = df[week_name].median()\n",
        "print(\"median:\", df_median, end=\"\\n\")\n",
        "\n",
        "df_quartiles = df[week_name].quantile([0.25,0.5,0.75]) #Q1, Q2, and Q3\n",
        "print(\"week 1 quartiles:\\n\", df_quartiles, sep=\"\")\n",
        "\n",
        "q1 = df[week_name].quantile(0.25)\n",
        "q3 = df[week_name].quantile(0.75)\n",
        "iqr = q3 - q1\n",
        "iqr_lower = q1 - (iqr * 1.5)\n",
        "iqr_upper = q3 + (iqr * 1.5)\n",
        "\n",
        "iqr_list = []\n",
        "std_list = []\n",
        "\n",
        "# Method using Tukey's Fences to detect potential outliers\n",
        "def tardy_iqr(week_name):\n",
        "    outlier_list = []\n",
        "\n",
        "    for index, row in df.iterrows():\n",
        "        # if value is out of range, append to outlier list\n",
        "        if row[week_name] < iqr_lower or row[week_name] > iqr_upper:\n",
        "            outlier_list.append(row[student_name])\n",
        "            \n",
        "    return outlier_list\n",
        "\n",
        "iqr_list = tardy_iqr(week_name)\n",
        "if len(iqr_list) < 1:\n",
        "    print(\"No outliers detected\")\n",
        "else:\n",
        "    print(\"IQR outlier list:\", iqr_list)\n",
        "\n",
        "# Method using the 68, 95, 99.7 principle involved with standard deviation to \n",
        "# detect potential outliers\n",
        "def tardy_stddev(week_name):\n",
        "    outlier_list = []\n",
        "    stddev = statistics.pstdev(df[week_name])\n",
        "    std_lower = df_mean - (1.5 * stddev)\n",
        "    std_upper = df_mean + (1.5 * stddev)\n",
        "\n",
        "    for index, row in df.iterrows():\n",
        "        # if value is out of range, append to outlier list\n",
        "        if row[week_name] < std_lower or row[week_name] > std_upper:\n",
        "            outlier_list.append(row[student_name])\n",
        "\n",
        "    return outlier_list\n",
        "\n",
        "std_list = tardy_stddev(week_name)\n",
        "if len(std_list) < 1:\n",
        "    print(\"No outliers detected\")\n",
        "else:\n",
        "    print(\"STDDEV outlier list:\", std_list)"
      ],
      "execution_count": null,
      "outputs": [
        {
          "output_type": "stream",
          "name": "stdout",
          "text": [
            "Calculating results for Week 4...\n",
            "mean: 175.31428571428572\n",
            "median: 171.0\n",
            "week 1 quartiles:\n",
            "0.25    170.0\n",
            "0.50    171.0\n",
            "0.75    172.0\n",
            "Name: Week 4, dtype: float64\n",
            "IQR outlier list: ['Dora Delacruz', 'Shaquille Wood']\n",
            "STDDEV outlier list: ['Dora Delacruz']\n"
          ]
        }
      ]
    },
    {
      "cell_type": "markdown",
      "metadata": {
        "id": "RXXpST22MbFf"
      },
      "source": [
        "### Week 5 Results"
      ]
    },
    {
      "cell_type": "code",
      "metadata": {
        "colab": {
          "base_uri": "https://localhost:8080/"
        },
        "id": "nJOW-iyrMd0e",
        "outputId": "22e5b593-2a3a-48fe-9ffc-d01a65844f0d"
      },
      "source": [
        "import csv\n",
        "import statistics\n",
        "import pandas as pd\n",
        "\n",
        "df = pd.read_csv('participants.csv', delimiter=',')\n",
        "# Change week_name to any other week #s\n",
        "week_name = 'Week 5'\n",
        "student_name = \"Student Name\"\n",
        "print(\"Calculating results for \", week_name, \"...\", sep=\"\")\n",
        "\n",
        "df_mean = df[week_name].mean()\n",
        "print(\"mean:\", df_mean, end=\"\\n\")\n",
        "\n",
        "df_median = df[week_name].median()\n",
        "print(\"median:\", df_median, end=\"\\n\")\n",
        "\n",
        "df_quartiles = df[week_name].quantile([0.25,0.5,0.75]) #Q1, Q2, and Q3\n",
        "print(\"week 1 quartiles:\\n\", df_quartiles, sep=\"\")\n",
        "\n",
        "q1 = df[week_name].quantile(0.25)\n",
        "q3 = df[week_name].quantile(0.75)\n",
        "iqr = q3 - q1\n",
        "iqr_lower = q1 - (iqr * 1.5)\n",
        "iqr_upper = q3 + (iqr * 1.5)\n",
        "\n",
        "iqr_list = []\n",
        "std_list = []\n",
        "\n",
        "# Method using Tukey's Fences to detect potential outliers\n",
        "def tardy_iqr(week_name):\n",
        "    outlier_list = []\n",
        "\n",
        "    for index, row in df.iterrows():\n",
        "        # if value is out of range, append to outlier list\n",
        "        if row[week_name] < iqr_lower or row[week_name] > iqr_upper:\n",
        "            outlier_list.append(row[student_name])\n",
        "            \n",
        "    return outlier_list\n",
        "\n",
        "iqr_list = tardy_iqr(week_name)\n",
        "if len(iqr_list) < 1:\n",
        "    print(\"No outliers detected\")\n",
        "else:\n",
        "    print(\"IQR outlier list:\", iqr_list)\n",
        "\n",
        "# Method using the 68, 95, 99.7 principle involved with standard deviation to \n",
        "# detect potential outliers\n",
        "def tardy_stddev(week_name):\n",
        "    outlier_list = []\n",
        "    stddev = statistics.pstdev(df[week_name])\n",
        "    std_lower = df_mean - (1.5 * stddev)\n",
        "    std_upper = df_mean + (1.5 * stddev)\n",
        "\n",
        "    for index, row in df.iterrows():\n",
        "        # if value is out of range, append to outlier list\n",
        "        if row[week_name] < std_lower or row[week_name] > std_upper:\n",
        "            outlier_list.append(row[student_name])\n",
        "\n",
        "    return outlier_list\n",
        "\n",
        "std_list = tardy_stddev(week_name)\n",
        "if len(std_list) < 1:\n",
        "    print(\"No outliers detected\")\n",
        "else:\n",
        "    print(\"STDDEV outlier list:\", std_list)"
      ],
      "execution_count": null,
      "outputs": [
        {
          "output_type": "stream",
          "name": "stdout",
          "text": [
            "Calculating results for Week 5...\n",
            "mean: 161.8\n",
            "median: 171.0\n",
            "week 1 quartiles:\n",
            "0.25    168.0\n",
            "0.50    171.0\n",
            "0.75    174.5\n",
            "Name: Week 5, dtype: float64\n",
            "IQR outlier list: ['Jazmin Foreman', 'Sanjay Edwards', 'Alfie-James Pierce', 'Adeline Jordan', 'Saffa Brook']\n",
            "STDDEV outlier list: ['Jazmin Foreman', 'Sanjay Edwards', 'Alfie-James Pierce']\n"
          ]
        }
      ]
    },
    {
      "cell_type": "markdown",
      "metadata": {
        "id": "rrI1zIzP5rPg"
      },
      "source": [
        "## Do your results agree with experiment (4)?\n",
        "- Yes, they do!"
      ]
    },
    {
      "cell_type": "markdown",
      "metadata": {
        "id": "woFWbsyn43fn"
      },
      "source": [
        "## Explanation\n",
        "- We created a Python code that loads in the data set and examine the contents of the students' attendance from week 1 - 5. Our code found the quartiles, used the Tukey's fences, and standard deviation to find the anomalies in the dataset. Student's that are listed as outliers are the anomalies. The results are:\n",
        "  ### Calculating results for Week 1...\n",
        "  - mean: 161.0\n",
        "  - median: 175.0\n",
        "  - week 1 quartiles:\n",
        "    - 0.25:    174.0\n",
        "    - 0.50:    175.0\n",
        "    - 0.75:    179.0\n",
        "  - Name: Week 1, dtype: float64\n",
        "  - IQR outlier list: ['Adrian Ellison', 'Tayla Sparrow', 'Owain Emerson', 'Alaya Dickinson']\n",
        "  - STDDEV outlier list: ['Adrian Ellison', 'Tayla Sparrow', 'Owain Emerson', 'Alaya Dickinson']\n",
        "\n",
        "  ### Calculating results for Week 2...\n",
        "  - mean: 145.0857142857143\n",
        "  - median: 153.0\n",
        "  - week 1 quartiles:\n",
        "    - 0.25:    149.0\n",
        "    - 0.50:   153.0\n",
        "    - 0.75:    154.0\n",
        "  - Name: Week 2, dtype: float64\n",
        "  - IQR outlier list: ['Yasir Fenton', 'Tamara Cottrell', 'Jazmin Foreman', 'Bear Zuniga', 'Miles Lyons', 'Owain Emerson']\n",
        "  - STDDEV outlier list: ['Yasir Fenton', 'Tamara Cottrell', 'Miles Lyons', 'Owain Emerson']\n",
        "\n",
        "  ### Calculating results for Week 3...\n",
        "  - mean: 153.8\n",
        "  - median: 161.0\n",
        "  - week 1 quartiles:\n",
        "    - 0.25:    158.0\n",
        "    - 0.50:    161.0\n",
        "    - 0.75:    163.5\n",
        "  - Name: Week 3, dtype: float64\n",
        "  - IQR outlier list: ['Adrian Ellison', 'Adeline Jordan', 'Jaye Sweeney', 'Kameron Anthony']\n",
        "  - STDDEV outlier list: ['Adrian Ellison', 'Adeline Jordan']\n",
        "\n",
        "  ### Calculating results for Week 4...\n",
        "  - mean: 175.31428571428572\n",
        "  - median: 171.0\n",
        "  - week 1 quartiles:\n",
        "    - 0.25:    170.0\n",
        "    - 0.50:   171.0\n",
        "    - 0.75:    172.0\n",
        "  - Name: Week 4, dtype: float64\n",
        "  - IQR outlier list: ['Dora Delacruz', 'Shaquille Wood']\n",
        "  - STDDEV outlier list: ['Dora Delacruz']\n",
        "\n",
        "  ### Calculating results for Week 5...\n",
        "  - mean: 161.8\n",
        "  - median: 171.0\n",
        "  - week 1 quartiles:\n",
        "    - 0.25:    168.0\n",
        "    - 0.50:    171.0\n",
        "    - 0.75:    174.5\n",
        "  - Name: Week 5, dtype: float64\n",
        "  - IQR outlier list: ['Jazmin Foreman', 'Sanjay Edwards', 'Alfie-James Pierce', 'Adeline Jordan', 'Saffa Brook']\n",
        "  - STDDEV outlier list: ['Jazmin Foreman', 'Sanjay Edwards', 'Alfie-James Pierce']\n",
        "\n"
      ]
    }
  ]
}